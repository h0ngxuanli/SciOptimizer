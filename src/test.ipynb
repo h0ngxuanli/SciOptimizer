{
 "cells": [
  {
   "cell_type": "code",
   "execution_count": 2,
   "metadata": {},
   "outputs": [],
   "source": [
    "import os\n",
    "api_key = os.environ\n",
    "api_key.get(\"OPENAI_API_KEY\")"
   ]
  },
  {
   "cell_type": "code",
   "execution_count": 5,
   "metadata": {},
   "outputs": [
    {
     "data": {
      "text/plain": [
       "dict"
      ]
     },
     "execution_count": 5,
     "metadata": {},
     "output_type": "execute_result"
    }
   ],
   "source": [
    "\n",
    "\n",
    "# Example usage\n",
    "model_output = \"\"\"\n",
    "Keywords: ['MD simulation']\n",
    "Year Range: [2024, 2023, 2022]\n",
    "Authors: []\n",
    "Institutions: []\n",
    "Conferences: []\n",
    "\"\"\"\n",
    "\n",
    "# Extract parameters\n",
    "extracted_params = extract_parameters(model_output)\n",
    "\n",
    "# Assuming `retrieve_papers` is a method of a class or defined in your code\n",
    "# You can now call it like this:\n",
    "# results = retrieve_papers(**extracted_params)\n",
    "\n",
    "type(extracted_params)"
   ]
  },
  {
   "cell_type": "code",
   "execution_count": 18,
   "metadata": {},
   "outputs": [],
   "source": [
    "from serpapi import GoogleSearch\n",
    "query = \"give me paper from MD simulation\"\n",
    "\n",
    "# Set up SerpApi parameters\n",
    "params = {\n",
    "    \"engine\": \"google_scholar\",\n",
    "    \"q\": query,\n",
    "    \"api_key\": \"542270b913255199ddf6271f0431586a76134ddffef5e9a559f67e7cca2dd424\",\n",
    "    \"num\": 2\n",
    "}\n",
    "\n",
    "search = GoogleSearch(params)\n",
    "results = search.get_dict()\n",
    "\n",
    "# papers = []\n",
    "# for num, pub in enumerate(results.get('organic_results', [])):\n",
    "#     result = {\n",
    "#         'title': pub.get('title', 'N/A'),\n",
    "#         'year': pub.get('publication_info', {}).get('year', 'N/A'),\n",
    "#         'author': ', '.join([author.get('name', '') for author in pub.get('publication_info', {}).get('authors', [])]),\n",
    "#         'institution': pub.get('publication_info', {}).get('publisher', 'N/A'),\n",
    "#         'conference': pub.get('publication_info', {}).get('venue', 'N/A'),\n",
    "#         'url': pub.get('link', 'N/A'),\n",
    "#         'abstract': pub.get('snippet', 'N/A'),\n",
    "#         'keywords': f\"keywords: {', '.join(keywords)}\" if keywords else 'N/A'\n",
    "#     }\n",
    "#     papers.append(result)\n",
    "    \n",
    "#     if num == num_papers - 1:\n",
    "#         break\n",
    "\n",
    "# time = datetime.datetime.now().strftime('%Y-%m-%d_%H-%M')\n",
    "# df = pd.DataFrame(papers)    \n",
    "# df.to_csv(f\"../results/info/{time}.csv\", index=False, encoding='utf-8-sig')"
   ]
  },
  {
   "cell_type": "code",
   "execution_count": 28,
   "metadata": {},
   "outputs": [
    {
     "data": {
      "text/plain": [
       "{'position': 0,\n",
       " 'title': 'Molecular dynamics machine: Special-purpose computer for molecular dynamics simulations',\n",
       " 'result_id': 'FAz8Ik2NdT0J',\n",
       " 'link': 'https://www.tandfonline.com/doi/abs/10.1080/08927029908022078',\n",
       " 'snippet': '… In the present paper, we give the hardware design of a highly parallelized GRAPE system for molecular dynamics simulations, which we named as Molecular Dynamics Machine (…',\n",
       " 'publication_info': {'summary': 'T Narumi, R Susukita, T Ebisuzaki, G McNiven… - … Simulation, 1999 - Taylor & Francis'},\n",
       " 'inline_links': {'serpapi_cite_link': 'https://serpapi.com/search.json?engine=google_scholar_cite&hl=en&q=FAz8Ik2NdT0J',\n",
       "  'cited_by': {'total': 133,\n",
       "   'link': 'https://scholar.google.com/scholar?cites=4428601171027692564&as_sdt=800005&sciodt=0,15&hl=en&num=2',\n",
       "   'cites_id': '4428601171027692564',\n",
       "   'serpapi_scholar_link': 'https://serpapi.com/search.json?as_sdt=800005&cites=4428601171027692564&engine=google_scholar&hl=en&num=2'},\n",
       "  'related_pages_link': 'https://scholar.google.com/scholar?q=related:FAz8Ik2NdT0J:scholar.google.com/&scioq=give+me+paper+from+MD+simulation&hl=en&num=2&as_sdt=0,15',\n",
       "  'serpapi_related_pages_link': 'https://serpapi.com/search.json?as_sdt=0%2C15&engine=google_scholar&hl=en&num=2&q=related%3AFAz8Ik2NdT0J%3Ascholar.google.com%2F',\n",
       "  'versions': {'total': 4,\n",
       "   'link': 'https://scholar.google.com/scholar?cluster=4428601171027692564&hl=en&num=2&as_sdt=0,15',\n",
       "   'cluster_id': '4428601171027692564',\n",
       "   'serpapi_scholar_link': 'https://serpapi.com/search.json?as_sdt=0%2C15&cluster=4428601171027692564&engine=google_scholar&hl=en&num=2'}}}"
      ]
     },
     "execution_count": 28,
     "metadata": {},
     "output_type": "execute_result"
    }
   ],
   "source": [
    "results.get('organic_results', [])[0]#['publication_info']['summary'].split(\"-\")"
   ]
  },
  {
   "cell_type": "code",
   "execution_count": 15,
   "metadata": {},
   "outputs": [
    {
     "name": "stdout",
     "output_type": "stream",
     "text": [
      "Collecting google-search-results\n",
      "  Using cached google_search_results-2.4.2-py3-none-any.whl\n",
      "Requirement already satisfied: requests in /opt/anaconda3/lib/python3.12/site-packages (from google-search-results) (2.32.2)\n",
      "Requirement already satisfied: charset-normalizer<4,>=2 in /opt/anaconda3/lib/python3.12/site-packages (from requests->google-search-results) (2.0.4)\n",
      "Requirement already satisfied: idna<4,>=2.5 in /opt/anaconda3/lib/python3.12/site-packages (from requests->google-search-results) (3.7)\n",
      "Requirement already satisfied: urllib3<3,>=1.21.1 in /opt/anaconda3/lib/python3.12/site-packages (from requests->google-search-results) (2.2.2)\n",
      "Requirement already satisfied: certifi>=2017.4.17 in /opt/anaconda3/lib/python3.12/site-packages (from requests->google-search-results) (2024.7.4)\n",
      "Installing collected packages: google-search-results\n",
      "Successfully installed google-search-results-2.4.2\n"
     ]
    }
   ],
   "source": [
    "!pip install google-search-results"
   ]
  },
  {
   "cell_type": "code",
   "execution_count": 8,
   "metadata": {},
   "outputs": [],
   "source": [
    "from scholarly import scholarly\n",
    "\n",
    "search_query = scholarly.search_pubs(\"MD simulation\")"
   ]
  },
  {
   "cell_type": "code",
   "execution_count": 11,
   "metadata": {},
   "outputs": [
    {
     "name": "stdout",
     "output_type": "stream",
     "text": [
      "{'title': 'Molecular dynamics simulation for all', 'author': 'Hollingsworth, Scott A and Dror, Ron O', 'pub_year': '2018', 'venue': 'Neuron', 'abstract': 'terms, the types of information MD simulations can provide and the ways  MD simulations  are often used in combination with a wide variety of  MD simulations are not new. The first', 'publisher': 'Elsevier', 'pages': '1129--1143', 'number': '6', 'volume': '99', 'journal': 'Neuron', 'pub_type': 'article', 'bib_id': 'hollingsworth2018molecular'}\n",
      "{'title': 'MD simulation of indentation and scratching of single crystal aluminum', 'author': 'Komanduri, R and Chandrasekaran, N and Raff, LM', 'pub_year': '2000', 'venue': 'Wear', 'abstract': 'An alternate approach to this problem is Molecular Dynamics (MD) simulation in which high   In addition to its cost effectiveness, MD simulations permit a wide range of studies to be', 'publisher': 'Elsevier', 'pages': '113--143', 'number': '1-2', 'volume': '240', 'journal': 'Wear', 'pub_type': 'article', 'bib_id': 'komanduri2000md'}\n",
      "{'title': 'MDAnalysis: a toolkit for the analysis of molecular dynamics simulations', 'author': 'Michaud-Agrawal, Naveen and Denning, Elizabeth J and Woolf, Thomas B and Beckstein, Oliver', 'pub_year': '2011', 'venue': 'Journal of …', 'abstract': 'dealing with MD simulations but they have rather different strengths. MMTK focuses on the  development of MD simulation methods whereas MDAnalysis makes it easy to analyze MD', 'publisher': 'Wiley Online Library', 'pages': '2319--2327', 'number': '10', 'volume': '32', 'journal': 'Journal of computational chemistry', 'pub_type': 'article', 'bib_id': 'michaud2011mdanalysis'}\n",
      "{'title': 'M. DynaMix--a scalable portable parallel MD simulation package for arbitrary molecular mixtures', 'author': 'Lyubartsev, Alexander P and Laaksonen, Aatto', 'pub_year': '2000', 'venue': 'Computer physics communications', 'abstract': 'molecular dynamics simulation package, called M.DynaMix to emphasize that it is designed  for simulations of  It employs modern simulation techniques for high-quality simulations: a', 'publisher': 'Elsevier', 'pages': '565--589', 'number': '3', 'volume': '128', 'journal': 'Computer physics communications', 'pub_type': 'article', 'bib_id': 'lyubartsev2000m'}\n",
      "{'title': 'A review on the mechanical and thermal properties of graphene and graphene-based polymer nanocomposites: understanding of modelling and MD simulation', 'author': 'Kumar, Amit and Sharma, Kamal and Dixit, Amit Rai', 'pub_year': '2020', 'venue': 'Molecular Simulation', 'abstract': 'using MD simulations. They placed the graphene sheet at the centre of the simulation box  filled  NVT and NPT ensembles have been used for equilibrating the entire simulation systems', 'publisher': 'Taylor \\\\& Francis', 'pages': '136--154', 'number': '2', 'volume': '46', 'journal': 'Molecular Simulation', 'pub_type': 'article', 'bib_id': 'kumar2020review'}\n",
      "{'title': 'Molecular dynamics (MD) simulation of uniaxial tension of some single-crystal cubic metals at nanolevel', 'author': 'Komanduri, R and Chandrasekaran, N and Raff, LM', 'pub_year': '2001', 'venue': 'International Journal of …', 'abstract': 'An alternative approach is MD simulations. Even though the  In this investigation, MD  simulations of tension are carried  behavior determined by the simulation with the Morse potential', 'publisher': 'Elsevier', 'pages': '2237--2260', 'number': '10', 'volume': '43', 'journal': 'International Journal of Mechanical Sciences', 'pub_type': 'article', 'bib_id': 'komanduri2001molecular'}\n"
     ]
    },
    {
     "name": "stderr",
     "output_type": "stream",
     "text": [
      "/opt/anaconda3/lib/python3.12/site-packages/scholarly/_scholarly.py:312: SyntaxWarning: invalid escape sequence '\\d'\n",
      "  m = re.search(\"cites=[\\d+,]*\", object[\"citedby_url\"])\n"
     ]
    },
    {
     "ename": "KeyboardInterrupt",
     "evalue": "",
     "output_type": "error",
     "traceback": [
      "\u001b[0;31m---------------------------------------------------------------------------\u001b[0m",
      "\u001b[0;31mKeyboardInterrupt\u001b[0m                         Traceback (most recent call last)",
      "Cell \u001b[0;32mIn[11], line 2\u001b[0m\n\u001b[1;32m      1\u001b[0m \u001b[38;5;28;01mfor\u001b[39;00m num, pub \u001b[38;5;129;01min\u001b[39;00m \u001b[38;5;28menumerate\u001b[39m(search_query):\n\u001b[0;32m----> 2\u001b[0m     pub \u001b[38;5;241m=\u001b[39m scholarly\u001b[38;5;241m.\u001b[39mfill(pub)\n\u001b[1;32m      3\u001b[0m     result \u001b[38;5;241m=\u001b[39m {\n\u001b[1;32m      4\u001b[0m         \u001b[38;5;124m'\u001b[39m\u001b[38;5;124mtitle\u001b[39m\u001b[38;5;124m'\u001b[39m: pub[\u001b[38;5;124m'\u001b[39m\u001b[38;5;124mbib\u001b[39m\u001b[38;5;124m'\u001b[39m]\u001b[38;5;241m.\u001b[39mget(\u001b[38;5;124m'\u001b[39m\u001b[38;5;124mtitle\u001b[39m\u001b[38;5;124m'\u001b[39m, \u001b[38;5;124m'\u001b[39m\u001b[38;5;124mN/A\u001b[39m\u001b[38;5;124m'\u001b[39m),\n\u001b[1;32m      5\u001b[0m         \u001b[38;5;124m'\u001b[39m\u001b[38;5;124myear\u001b[39m\u001b[38;5;124m'\u001b[39m: pub[\u001b[38;5;124m'\u001b[39m\u001b[38;5;124mbib\u001b[39m\u001b[38;5;124m'\u001b[39m]\u001b[38;5;241m.\u001b[39mget(\u001b[38;5;124m'\u001b[39m\u001b[38;5;124mpub_year\u001b[39m\u001b[38;5;124m'\u001b[39m, \u001b[38;5;124m'\u001b[39m\u001b[38;5;124mN/A\u001b[39m\u001b[38;5;124m'\u001b[39m),\n\u001b[0;32m   (...)\u001b[0m\n\u001b[1;32m     10\u001b[0m         \u001b[38;5;124m'\u001b[39m\u001b[38;5;124mabstract\u001b[39m\u001b[38;5;124m'\u001b[39m: pub[\u001b[38;5;124m'\u001b[39m\u001b[38;5;124mbib\u001b[39m\u001b[38;5;124m'\u001b[39m]\u001b[38;5;241m.\u001b[39mget(\u001b[38;5;124m'\u001b[39m\u001b[38;5;124mabstract\u001b[39m\u001b[38;5;124m'\u001b[39m, \u001b[38;5;124m'\u001b[39m\u001b[38;5;124mN/A\u001b[39m\u001b[38;5;124m'\u001b[39m)\n\u001b[1;32m     11\u001b[0m     }\n\u001b[1;32m     13\u001b[0m     \u001b[38;5;28mprint\u001b[39m(pub[\u001b[38;5;124m'\u001b[39m\u001b[38;5;124mbib\u001b[39m\u001b[38;5;124m'\u001b[39m])\n",
      "File \u001b[0;32m/opt/anaconda3/lib/python3.12/site-packages/scholarly/_scholarly.py:238\u001b[0m, in \u001b[0;36m_Scholarly.fill\u001b[0;34m(self, object, sections, sortby, publication_limit)\u001b[0m\n\u001b[1;32m    236\u001b[0m \u001b[38;5;28;01melif\u001b[39;00m \u001b[38;5;28mobject\u001b[39m[\u001b[38;5;124m'\u001b[39m\u001b[38;5;124mcontainer_type\u001b[39m\u001b[38;5;124m'\u001b[39m] \u001b[38;5;241m==\u001b[39m \u001b[38;5;124m\"\u001b[39m\u001b[38;5;124mPublication\u001b[39m\u001b[38;5;124m\"\u001b[39m:\n\u001b[1;32m    237\u001b[0m     publication_parser \u001b[38;5;241m=\u001b[39m PublicationParser(\u001b[38;5;28mself\u001b[39m\u001b[38;5;241m.\u001b[39m__nav)\n\u001b[0;32m--> 238\u001b[0m     \u001b[38;5;28mobject\u001b[39m \u001b[38;5;241m=\u001b[39m publication_parser\u001b[38;5;241m.\u001b[39mfill(\u001b[38;5;28mobject\u001b[39m)\n\u001b[1;32m    239\u001b[0m \u001b[38;5;28;01mreturn\u001b[39;00m \u001b[38;5;28mobject\u001b[39m\n",
      "File \u001b[0;32m/opt/anaconda3/lib/python3.12/site-packages/scholarly/publication_parser.py:368\u001b[0m, in \u001b[0;36mPublicationParser.fill\u001b[0;34m(self, publication)\u001b[0m\n\u001b[1;32m    366\u001b[0m     publication[\u001b[38;5;124m'\u001b[39m\u001b[38;5;124mfilled\u001b[39m\u001b[38;5;124m'\u001b[39m] \u001b[38;5;241m=\u001b[39m \u001b[38;5;28;01mTrue\u001b[39;00m\n\u001b[1;32m    367\u001b[0m \u001b[38;5;28;01melif\u001b[39;00m publication[\u001b[38;5;124m'\u001b[39m\u001b[38;5;124msource\u001b[39m\u001b[38;5;124m'\u001b[39m] \u001b[38;5;241m==\u001b[39m PublicationSource\u001b[38;5;241m.\u001b[39mPUBLICATION_SEARCH_SNIPPET:\n\u001b[0;32m--> 368\u001b[0m     bibtex_url \u001b[38;5;241m=\u001b[39m \u001b[38;5;28mself\u001b[39m\u001b[38;5;241m.\u001b[39m_get_bibtex(publication[\u001b[38;5;124m'\u001b[39m\u001b[38;5;124murl_scholarbib\u001b[39m\u001b[38;5;124m'\u001b[39m])\n\u001b[1;32m    369\u001b[0m     bibtex \u001b[38;5;241m=\u001b[39m \u001b[38;5;28mself\u001b[39m\u001b[38;5;241m.\u001b[39mnav\u001b[38;5;241m.\u001b[39m_get_page(bibtex_url)\n\u001b[1;32m    370\u001b[0m     parser \u001b[38;5;241m=\u001b[39m bibtexparser\u001b[38;5;241m.\u001b[39mbparser\u001b[38;5;241m.\u001b[39mBibTexParser(common_strings\u001b[38;5;241m=\u001b[39m\u001b[38;5;28;01mTrue\u001b[39;00m)\n",
      "File \u001b[0;32m/opt/anaconda3/lib/python3.12/site-packages/scholarly/publication_parser.py:413\u001b[0m, in \u001b[0;36mPublicationParser._get_bibtex\u001b[0;34m(self, bib_url)\u001b[0m\n\u001b[1;32m    410\u001b[0m \u001b[38;5;28;01mdef\u001b[39;00m \u001b[38;5;21m_get_bibtex\u001b[39m(\u001b[38;5;28mself\u001b[39m, bib_url) \u001b[38;5;241m-\u001b[39m\u001b[38;5;241m>\u001b[39m \u001b[38;5;28mstr\u001b[39m:\n\u001b[1;32m    411\u001b[0m \u001b[38;5;250m    \u001b[39m\u001b[38;5;124;03m\"\"\"Retrieves the bibtex url\"\"\"\u001b[39;00m\n\u001b[0;32m--> 413\u001b[0m     soup \u001b[38;5;241m=\u001b[39m \u001b[38;5;28mself\u001b[39m\u001b[38;5;241m.\u001b[39mnav\u001b[38;5;241m.\u001b[39m_get_soup(bib_url)\n\u001b[1;32m    414\u001b[0m     styles \u001b[38;5;241m=\u001b[39m soup\u001b[38;5;241m.\u001b[39mfind_all(\u001b[38;5;124m'\u001b[39m\u001b[38;5;124ma\u001b[39m\u001b[38;5;124m'\u001b[39m, class_\u001b[38;5;241m=\u001b[39m\u001b[38;5;124m'\u001b[39m\u001b[38;5;124mgs_citi\u001b[39m\u001b[38;5;124m'\u001b[39m)\n\u001b[1;32m    416\u001b[0m     \u001b[38;5;28;01mfor\u001b[39;00m link \u001b[38;5;129;01min\u001b[39;00m styles:\n",
      "File \u001b[0;32m/opt/anaconda3/lib/python3.12/site-packages/scholarly/_navigator.py:239\u001b[0m, in \u001b[0;36mNavigator._get_soup\u001b[0;34m(self, url)\u001b[0m\n\u001b[1;32m    237\u001b[0m \u001b[38;5;28;01mdef\u001b[39;00m \u001b[38;5;21m_get_soup\u001b[39m(\u001b[38;5;28mself\u001b[39m, url: \u001b[38;5;28mstr\u001b[39m) \u001b[38;5;241m-\u001b[39m\u001b[38;5;241m>\u001b[39m BeautifulSoup:\n\u001b[1;32m    238\u001b[0m \u001b[38;5;250m    \u001b[39m\u001b[38;5;124;03m\"\"\"Return the BeautifulSoup for a page on scholar.google.com\"\"\"\u001b[39;00m\n\u001b[0;32m--> 239\u001b[0m     html \u001b[38;5;241m=\u001b[39m \u001b[38;5;28mself\u001b[39m\u001b[38;5;241m.\u001b[39m_get_page(\u001b[38;5;124m'\u001b[39m\u001b[38;5;124mhttps://scholar.google.com\u001b[39m\u001b[38;5;132;01m{0}\u001b[39;00m\u001b[38;5;124m'\u001b[39m\u001b[38;5;241m.\u001b[39mformat(url))\n\u001b[1;32m    240\u001b[0m     html \u001b[38;5;241m=\u001b[39m html\u001b[38;5;241m.\u001b[39mreplace(\u001b[38;5;124mu\u001b[39m\u001b[38;5;124m'\u001b[39m\u001b[38;5;130;01m\\xa0\u001b[39;00m\u001b[38;5;124m'\u001b[39m, \u001b[38;5;124mu\u001b[39m\u001b[38;5;124m'\u001b[39m\u001b[38;5;124m \u001b[39m\u001b[38;5;124m'\u001b[39m)\n\u001b[1;32m    241\u001b[0m     res \u001b[38;5;241m=\u001b[39m BeautifulSoup(html, \u001b[38;5;124m'\u001b[39m\u001b[38;5;124mhtml.parser\u001b[39m\u001b[38;5;124m'\u001b[39m)\n",
      "File \u001b[0;32m/opt/anaconda3/lib/python3.12/site-packages/scholarly/_navigator.py:144\u001b[0m, in \u001b[0;36mNavigator._get_page\u001b[0;34m(self, pagerequest, premium)\u001b[0m\n\u001b[1;32m    142\u001b[0m         w \u001b[38;5;241m=\u001b[39m random\u001b[38;5;241m.\u001b[39muniform(\u001b[38;5;241m60\u001b[39m, \u001b[38;5;241m2\u001b[39m\u001b[38;5;241m*\u001b[39m\u001b[38;5;241m60\u001b[39m)\n\u001b[1;32m    143\u001b[0m         \u001b[38;5;28mself\u001b[39m\u001b[38;5;241m.\u001b[39mlogger\u001b[38;5;241m.\u001b[39minfo(\u001b[38;5;124m\"\u001b[39m\u001b[38;5;124mWill retry after \u001b[39m\u001b[38;5;132;01m%.2f\u001b[39;00m\u001b[38;5;124m seconds (with another session).\u001b[39m\u001b[38;5;124m\"\u001b[39m, w)\n\u001b[0;32m--> 144\u001b[0m         time\u001b[38;5;241m.\u001b[39msleep(w)\n\u001b[1;32m    145\u001b[0m \u001b[38;5;28mself\u001b[39m\u001b[38;5;241m.\u001b[39m_new_session(premium\u001b[38;5;241m=\u001b[39mpremium)\n\u001b[1;32m    146\u001b[0m \u001b[38;5;28mself\u001b[39m\u001b[38;5;241m.\u001b[39mgot_403 \u001b[38;5;241m=\u001b[39m \u001b[38;5;28;01mTrue\u001b[39;00m\n",
      "\u001b[0;31mKeyboardInterrupt\u001b[0m: "
     ]
    }
   ],
   "source": [
    "for num, pub in enumerate(search_query):\n",
    "    pub = scholarly.fill(pub)\n",
    "    result = {\n",
    "        'title': pub['bib'].get('title', 'N/A'),\n",
    "        'year': pub['bib'].get('pub_year', 'N/A'),\n",
    "        'author': pub['bib'].get('author', \"\"),\n",
    "        'institution': pub['bib'].get('institution', 'N/A'),\n",
    "        'conference': pub['bib'].get('venue', 'N/A'),\n",
    "        'url': pub.get('pub_url', 'N/A'),\n",
    "        'abstract': pub['bib'].get('abstract', 'N/A')\n",
    "    }\n",
    "    \n",
    "    print(pub['bib'])"
   ]
  },
  {
   "cell_type": "code",
   "execution_count": 13,
   "metadata": {},
   "outputs": [
    {
     "data": {
      "text/plain": [
       "'and application of molecular dynamics simulation methods\".  Molecular dynamics simulations  are important for understand the methodology of molecular dynamics and its applications'"
      ]
     },
     "execution_count": 13,
     "metadata": {},
     "output_type": "execute_result"
    }
   ],
   "source": [
    "pub['bib']['abstract']"
   ]
  },
  {
   "cell_type": "code",
   "execution_count": 7,
   "metadata": {},
   "outputs": [
    {
     "name": "stdout",
     "output_type": "stream",
     "text": [
      "Collecting scholarly\n",
      "  Using cached scholarly-1.7.11-py3-none-any.whl.metadata (7.4 kB)\n",
      "Requirement already satisfied: arrow in /opt/anaconda3/lib/python3.12/site-packages (from scholarly) (1.2.3)\n",
      "Requirement already satisfied: beautifulsoup4 in /opt/anaconda3/lib/python3.12/site-packages (from scholarly) (4.12.3)\n",
      "Collecting bibtexparser (from scholarly)\n",
      "  Using cached bibtexparser-1.4.1-py3-none-any.whl\n",
      "Collecting deprecated (from scholarly)\n",
      "  Using cached Deprecated-1.2.14-py2.py3-none-any.whl.metadata (5.4 kB)\n",
      "Collecting fake-useragent (from scholarly)\n",
      "  Using cached fake_useragent-1.5.1-py3-none-any.whl.metadata (15 kB)\n",
      "Collecting free-proxy (from scholarly)\n",
      "  Using cached free_proxy-1.1.1-py3-none-any.whl\n",
      "Requirement already satisfied: httpx in /opt/anaconda3/lib/python3.12/site-packages (from scholarly) (0.26.0)\n",
      "Requirement already satisfied: python-dotenv in /opt/anaconda3/lib/python3.12/site-packages (from scholarly) (0.21.0)\n",
      "Requirement already satisfied: requests[socks] in /opt/anaconda3/lib/python3.12/site-packages (from scholarly) (2.32.2)\n",
      "Collecting selenium (from scholarly)\n",
      "  Using cached selenium-4.23.1-py3-none-any.whl.metadata (7.1 kB)\n",
      "Collecting sphinx-rtd-theme (from scholarly)\n",
      "  Using cached sphinx_rtd_theme-2.0.0-py2.py3-none-any.whl.metadata (4.4 kB)\n",
      "Requirement already satisfied: typing-extensions in /opt/anaconda3/lib/python3.12/site-packages (from scholarly) (4.11.0)\n",
      "Requirement already satisfied: python-dateutil>=2.7.0 in /opt/anaconda3/lib/python3.12/site-packages (from arrow->scholarly) (2.9.0.post0)\n",
      "Requirement already satisfied: soupsieve>1.2 in /opt/anaconda3/lib/python3.12/site-packages (from beautifulsoup4->scholarly) (2.5)\n",
      "Requirement already satisfied: pyparsing>=2.0.3 in /opt/anaconda3/lib/python3.12/site-packages (from bibtexparser->scholarly) (3.0.9)\n",
      "Requirement already satisfied: wrapt<2,>=1.10 in /opt/anaconda3/lib/python3.12/site-packages (from deprecated->scholarly) (1.14.1)\n",
      "Requirement already satisfied: lxml in /opt/anaconda3/lib/python3.12/site-packages (from free-proxy->scholarly) (5.2.1)\n",
      "Requirement already satisfied: anyio in /opt/anaconda3/lib/python3.12/site-packages (from httpx->scholarly) (4.2.0)\n",
      "Requirement already satisfied: certifi in /opt/anaconda3/lib/python3.12/site-packages (from httpx->scholarly) (2024.7.4)\n",
      "Requirement already satisfied: httpcore==1.* in /opt/anaconda3/lib/python3.12/site-packages (from httpx->scholarly) (1.0.2)\n",
      "Requirement already satisfied: idna in /opt/anaconda3/lib/python3.12/site-packages (from httpx->scholarly) (3.7)\n",
      "Requirement already satisfied: sniffio in /opt/anaconda3/lib/python3.12/site-packages (from httpx->scholarly) (1.3.0)\n",
      "Requirement already satisfied: h11<0.15,>=0.13 in /opt/anaconda3/lib/python3.12/site-packages (from httpcore==1.*->httpx->scholarly) (0.14.0)\n",
      "Requirement already satisfied: charset-normalizer<4,>=2 in /opt/anaconda3/lib/python3.12/site-packages (from requests[socks]->scholarly) (2.0.4)\n",
      "Requirement already satisfied: urllib3<3,>=1.21.1 in /opt/anaconda3/lib/python3.12/site-packages (from requests[socks]->scholarly) (2.2.2)\n",
      "Requirement already satisfied: PySocks!=1.5.7,>=1.5.6 in /opt/anaconda3/lib/python3.12/site-packages (from requests[socks]->scholarly) (1.7.1)\n",
      "Collecting trio~=0.17 (from selenium->scholarly)\n",
      "  Downloading trio-0.26.1-py3-none-any.whl.metadata (8.6 kB)\n",
      "Collecting trio-websocket~=0.9 (from selenium->scholarly)\n",
      "  Using cached trio_websocket-0.11.1-py3-none-any.whl.metadata (4.7 kB)\n",
      "Requirement already satisfied: websocket-client~=1.8 in /opt/anaconda3/lib/python3.12/site-packages (from selenium->scholarly) (1.8.0)\n",
      "Requirement already satisfied: sphinx<8,>=5 in /opt/anaconda3/lib/python3.12/site-packages (from sphinx-rtd-theme->scholarly) (7.3.7)\n",
      "Requirement already satisfied: docutils<0.21 in /opt/anaconda3/lib/python3.12/site-packages (from sphinx-rtd-theme->scholarly) (0.18.1)\n",
      "Collecting sphinxcontrib-jquery<5,>=4 (from sphinx-rtd-theme->scholarly)\n",
      "  Using cached sphinxcontrib_jquery-4.1-py2.py3-none-any.whl.metadata (2.6 kB)\n",
      "Requirement already satisfied: six>=1.5 in /opt/anaconda3/lib/python3.12/site-packages (from python-dateutil>=2.7.0->arrow->scholarly) (1.16.0)\n",
      "Requirement already satisfied: sphinxcontrib-applehelp in /opt/anaconda3/lib/python3.12/site-packages (from sphinx<8,>=5->sphinx-rtd-theme->scholarly) (1.0.2)\n",
      "Requirement already satisfied: sphinxcontrib-devhelp in /opt/anaconda3/lib/python3.12/site-packages (from sphinx<8,>=5->sphinx-rtd-theme->scholarly) (1.0.2)\n",
      "Requirement already satisfied: sphinxcontrib-jsmath in /opt/anaconda3/lib/python3.12/site-packages (from sphinx<8,>=5->sphinx-rtd-theme->scholarly) (1.0.1)\n",
      "Requirement already satisfied: sphinxcontrib-htmlhelp>=2.0.0 in /opt/anaconda3/lib/python3.12/site-packages (from sphinx<8,>=5->sphinx-rtd-theme->scholarly) (2.0.0)\n",
      "Requirement already satisfied: sphinxcontrib-serializinghtml>=1.1.9 in /opt/anaconda3/lib/python3.12/site-packages (from sphinx<8,>=5->sphinx-rtd-theme->scholarly) (1.1.10)\n",
      "Requirement already satisfied: sphinxcontrib-qthelp in /opt/anaconda3/lib/python3.12/site-packages (from sphinx<8,>=5->sphinx-rtd-theme->scholarly) (1.0.3)\n",
      "Requirement already satisfied: Jinja2>=3.0 in /opt/anaconda3/lib/python3.12/site-packages (from sphinx<8,>=5->sphinx-rtd-theme->scholarly) (3.1.4)\n",
      "Requirement already satisfied: Pygments>=2.14 in /opt/anaconda3/lib/python3.12/site-packages (from sphinx<8,>=5->sphinx-rtd-theme->scholarly) (2.15.1)\n",
      "Requirement already satisfied: snowballstemmer>=2.0 in /opt/anaconda3/lib/python3.12/site-packages (from sphinx<8,>=5->sphinx-rtd-theme->scholarly) (2.2.0)\n",
      "Requirement already satisfied: babel>=2.9 in /opt/anaconda3/lib/python3.12/site-packages (from sphinx<8,>=5->sphinx-rtd-theme->scholarly) (2.11.0)\n",
      "Requirement already satisfied: alabaster~=0.7.14 in /opt/anaconda3/lib/python3.12/site-packages (from sphinx<8,>=5->sphinx-rtd-theme->scholarly) (0.7.16)\n",
      "Requirement already satisfied: imagesize>=1.3 in /opt/anaconda3/lib/python3.12/site-packages (from sphinx<8,>=5->sphinx-rtd-theme->scholarly) (1.4.1)\n",
      "Requirement already satisfied: packaging>=21.0 in /opt/anaconda3/lib/python3.12/site-packages (from sphinx<8,>=5->sphinx-rtd-theme->scholarly) (23.2)\n",
      "Collecting attrs>=23.2.0 (from trio~=0.17->selenium->scholarly)\n",
      "  Downloading attrs-24.2.0-py3-none-any.whl.metadata (11 kB)\n",
      "Requirement already satisfied: sortedcontainers in /opt/anaconda3/lib/python3.12/site-packages (from trio~=0.17->selenium->scholarly) (2.4.0)\n",
      "Collecting outcome (from trio~=0.17->selenium->scholarly)\n",
      "  Using cached outcome-1.3.0.post0-py2.py3-none-any.whl.metadata (2.6 kB)\n",
      "Collecting wsproto>=0.14 (from trio-websocket~=0.9->selenium->scholarly)\n",
      "  Using cached wsproto-1.2.0-py3-none-any.whl.metadata (5.6 kB)\n",
      "Requirement already satisfied: pytz>=2015.7 in /opt/anaconda3/lib/python3.12/site-packages (from babel>=2.9->sphinx<8,>=5->sphinx-rtd-theme->scholarly) (2024.1)\n",
      "Requirement already satisfied: MarkupSafe>=2.0 in /opt/anaconda3/lib/python3.12/site-packages (from Jinja2>=3.0->sphinx<8,>=5->sphinx-rtd-theme->scholarly) (2.1.3)\n",
      "Using cached scholarly-1.7.11-py3-none-any.whl (39 kB)\n",
      "Using cached Deprecated-1.2.14-py2.py3-none-any.whl (9.6 kB)\n",
      "Using cached fake_useragent-1.5.1-py3-none-any.whl (17 kB)\n",
      "Using cached selenium-4.23.1-py3-none-any.whl (9.4 MB)\n",
      "Using cached sphinx_rtd_theme-2.0.0-py2.py3-none-any.whl (2.8 MB)\n",
      "Using cached sphinxcontrib_jquery-4.1-py2.py3-none-any.whl (121 kB)\n",
      "Downloading trio-0.26.1-py3-none-any.whl (475 kB)\n",
      "\u001b[2K   \u001b[90m━━━━━━━━━━━━━━━━━━━━━━━━━━━━━━━━━━━━━━━━\u001b[0m \u001b[32m475.7/475.7 kB\u001b[0m \u001b[31m6.3 MB/s\u001b[0m eta \u001b[36m0:00:00\u001b[0m00:01\u001b[0m00:01\u001b[0m\n",
      "\u001b[?25hUsing cached trio_websocket-0.11.1-py3-none-any.whl (17 kB)\n",
      "Downloading attrs-24.2.0-py3-none-any.whl (63 kB)\n",
      "\u001b[2K   \u001b[90m━━━━━━━━━━━━━━━━━━━━━━━━━━━━━━━━━━━━━━━━\u001b[0m \u001b[32m63.0/63.0 kB\u001b[0m \u001b[31m6.1 MB/s\u001b[0m eta \u001b[36m0:00:00\u001b[0m\n",
      "\u001b[?25hUsing cached wsproto-1.2.0-py3-none-any.whl (24 kB)\n",
      "Using cached outcome-1.3.0.post0-py2.py3-none-any.whl (10 kB)\n",
      "Installing collected packages: fake-useragent, wsproto, deprecated, bibtexparser, attrs, outcome, free-proxy, trio, sphinxcontrib-jquery, trio-websocket, sphinx-rtd-theme, selenium, scholarly\n",
      "  Attempting uninstall: attrs\n",
      "    Found existing installation: attrs 23.1.0\n",
      "    Uninstalling attrs-23.1.0:\n",
      "      Successfully uninstalled attrs-23.1.0\n",
      "Successfully installed attrs-24.2.0 bibtexparser-1.4.1 deprecated-1.2.14 fake-useragent-1.5.1 free-proxy-1.1.1 outcome-1.3.0.post0 scholarly-1.7.11 selenium-4.23.1 sphinx-rtd-theme-2.0.0 sphinxcontrib-jquery-4.1 trio-0.26.1 trio-websocket-0.11.1 wsproto-1.2.0\n"
     ]
    }
   ],
   "source": [
    "!pip3 install scholarly"
   ]
  }
 ],
 "metadata": {
  "kernelspec": {
   "display_name": "Python 3",
   "language": "python",
   "name": "python3"
  },
  "language_info": {
   "codemirror_mode": {
    "name": "ipython",
    "version": 3
   },
   "file_extension": ".py",
   "mimetype": "text/x-python",
   "name": "python",
   "nbconvert_exporter": "python",
   "pygments_lexer": "ipython3",
   "version": "3.12.4"
  }
 },
 "nbformat": 4,
 "nbformat_minor": 2
}
